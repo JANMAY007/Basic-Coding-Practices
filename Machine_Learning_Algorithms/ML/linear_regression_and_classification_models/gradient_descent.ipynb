{
 "cells": [
  {
   "cell_type": "markdown",
   "id": "ef5700dd-ab24-4527-93f1-d9b2c638a453",
   "metadata": {},
   "source": [
    "# Gradient Descent Algorithm"
   ]
  },
  {
   "cell_type": "markdown",
   "id": "15a4ac0b-c729-4e67-897e-fc34ee78955e",
   "metadata": {},
   "source": [
    "### Importing Libraries"
   ]
  },
  {
   "cell_type": "code",
   "execution_count": 1,
   "id": "62c22171-99b0-4f31-9037-44e9a5cfd43d",
   "metadata": {},
   "outputs": [],
   "source": [
    "from matplotlib import pyplot as plt\n",
    "from sklearn.linear_model import LinearRegression\n",
    "from sklearn.datasets import make_regression"
   ]
  },
  {
   "cell_type": "markdown",
   "id": "204e8dd3-d162-4475-92b6-3e99478653df",
   "metadata": {},
   "source": [
    "### Forming dataset and training it"
   ]
  },
  {
   "cell_type": "code",
   "execution_count": 2,
   "id": "ddaf7bb8-2232-4c90-a15a-dc5cf0fa143d",
   "metadata": {},
   "outputs": [
    {
     "data": {
      "text/plain": [
       "LinearRegression()"
      ]
     },
     "execution_count": 2,
     "metadata": {},
     "output_type": "execute_result"
    }
   ],
   "source": [
    "X, Y = make_regression(n_features=1, noise=10, n_samples=1000)\n",
    "lr = LinearRegression()\n",
    "lr.fit(X, Y)"
   ]
  },
  {
   "cell_type": "code",
   "execution_count": 3,
   "id": "5987d8ec-106a-4194-940c-b3d9af98e8d6",
   "metadata": {},
   "outputs": [
    {
     "data": {
      "text/plain": [
       "array([92.30301618])"
      ]
     },
     "execution_count": 3,
     "metadata": {},
     "output_type": "execute_result"
    }
   ],
   "source": [
    "lr.coef_"
   ]
  },
  {
   "cell_type": "code",
   "execution_count": 4,
   "id": "da3b46e1-0fc3-412f-a324-bf88ebb1feb9",
   "metadata": {},
   "outputs": [
    {
     "data": {
      "text/plain": [
       "-0.32215228202786816"
      ]
     },
     "execution_count": 4,
     "metadata": {},
     "output_type": "execute_result"
    }
   ],
   "source": [
    "lr.intercept_"
   ]
  },
  {
   "cell_type": "markdown",
   "id": "f8119ee5-3a3d-4ef7-9c86-8bbc556bbde2",
   "metadata": {},
   "source": [
    "### Predicting data"
   ]
  },
  {
   "cell_type": "code",
   "execution_count": 5,
   "id": "9a05a90b-a2dd-453f-8aa4-77dd2465f52d",
   "metadata": {},
   "outputs": [],
   "source": [
    "predicted = lr.predict(X)"
   ]
  },
  {
   "cell_type": "markdown",
   "id": "39c5c566-9da1-4592-96ea-fe3a5c60ec58",
   "metadata": {},
   "source": [
    "### Plotting the training and predicting datasets"
   ]
  },
  {
   "cell_type": "code",
   "execution_count": 6,
   "id": "1050669f-631e-44b9-94a6-954b53aaae17",
   "metadata": {},
   "outputs": [
    {
     "data": {
      "image/png": "[encoded data removed]",
      "text/plain": [
       "<Figure size 432x288 with 1 Axes>"
      ]
     },
     "metadata": {
      "needs_background": "light"
     },
     "output_type": "display_data"
    }
   ],
   "source": [
    "plt.scatter(X, Y, label='Training')\n",
    "plt.scatter(X, predicted, label='Predicted')\n",
    "plt.xlabel(\"Feature-x\")\n",
    "plt.ylabel(\"Target-Y\")\n",
    "plt.legend()\n",
    "plt.show()"
   ]
  }
 ],
 "metadata": {
  "kernelspec": {
   "display_name": "Python 3",
   "language": "python",
   "name": "python3"
  },
  "language_info": {
   "codemirror_mode": {
    "name": "ipython",
    "version": 3
   },
   "file_extension": ".py",
   "mimetype": "text/x-python",
   "name": "python",
   "nbconvert_exporter": "python",
   "pygments_lexer": "ipython3",
   "version": "3.8.10"
  }
 },
 "nbformat": 4,
 "nbformat_minor": 5
}
