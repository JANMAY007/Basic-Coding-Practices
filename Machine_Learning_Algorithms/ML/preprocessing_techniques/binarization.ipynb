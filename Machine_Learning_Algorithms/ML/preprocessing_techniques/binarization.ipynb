{
 "cells": [
  {
   "cell_type": "markdown",
   "id": "2670741e-623d-4ad6-acbb-6264a1d62469",
   "metadata": {},
   "source": [
    "# Binarization"
   ]
  },
  {
   "cell_type": "markdown",
   "id": "63a6a91b-bc3c-4dd8-a626-593cee368c82",
   "metadata": {},
   "source": [
    "### Importing Libraries"
   ]
  },
  {
   "cell_type": "code",
   "execution_count": 1,
   "id": "aabc7127-7a47-4a74-a66d-8f40e6563477",
   "metadata": {},
   "outputs": [],
   "source": [
    "from sklearn.preprocessing import Binarizer\n",
    "import numpy as np"
   ]
  },
  {
   "cell_type": "markdown",
   "id": "894e4f3f-4b69-4a78-8a3c-090f169e69f4",
   "metadata": {},
   "source": [
    "### Defining data"
   ]
  },
  {
   "cell_type": "code",
   "execution_count": 2,
   "id": "8c868047-5cc5-4151-8c4e-96d9f9f39a85",
   "metadata": {},
   "outputs": [],
   "source": [
    "X = np.array([[1., -1.,  2.], [2.,  0.,  0.], [0.,  1., -1.]])"
   ]
  },
  {
   "cell_type": "markdown",
   "id": "0ad5f8ea-76bf-423f-825f-00bdbe191b52",
   "metadata": {},
   "source": [
    "### Using binarization for fit transform"
   ]
  },
  {
   "cell_type": "code",
   "execution_count": 3,
   "id": "5d46ac6f-57f6-4869-a3d4-76aa59eacea2",
   "metadata": {},
   "outputs": [],
   "source": [
    "binarizer = Binarizer()\n",
    "data_tf = binarizer.fit_transform(X)"
   ]
  },
  {
   "cell_type": "markdown",
   "id": "1b0ed3b5-7ac5-4780-96a2-f6fab94644bc",
   "metadata": {},
   "source": [
    "### Printing fitted data"
   ]
  },
  {
   "cell_type": "code",
   "execution_count": 4,
   "id": "a8aa92c6-0714-44b3-b902-763072311df5",
   "metadata": {},
   "outputs": [
    {
     "data": {
      "text/plain": [
       "array([[1., 0., 1.],\n",
       "       [1., 0., 0.],\n",
       "       [0., 1., 0.]])"
      ]
     },
     "execution_count": 4,
     "metadata": {},
     "output_type": "execute_result"
    }
   ],
   "source": [
    "data_tf"
   ]
  }
 ],
 "metadata": {
  "kernelspec": {
   "display_name": "Python 3",
   "language": "python",
   "name": "python3"
  },
  "language_info": {
   "codemirror_mode": {
    "name": "ipython",
    "version": 3
   },
   "file_extension": ".py",
   "mimetype": "text/x-python",
   "name": "python",
   "nbconvert_exporter": "python",
   "pygments_lexer": "ipython3",
   "version": "3.8.10"
  }
 },
 "nbformat": 4,
 "nbformat_minor": 5
}
